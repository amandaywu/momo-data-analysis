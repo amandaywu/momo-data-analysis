{
 "cells": [
  {
   "cell_type": "code",
   "execution_count": 50,
   "metadata": {},
   "outputs": [],
   "source": [
    "import pandas as pd\n",
    "import numpy as np\n",
    "import seaborn as sns\n",
    "\n",
    "import matplotlib.pyplot as plt\n",
    "%matplotlib inline\n",
    "\n",
    "import os"
   ]
  },
  {
   "cell_type": "markdown",
   "metadata": {},
   "source": [
    "## Read in JSON data"
   ]
  },
  {
   "cell_type": "code",
   "execution_count": 2,
   "metadata": {},
   "outputs": [
    {
     "name": "stdout",
     "output_type": "stream",
     "text": [
      "(MoMo data) 2018-01-12-strato-backup.zip\r\n",
      "\u001b[34m2018-01-12-stato-backup\u001b[m\u001b[m\r\n",
      "momo_data_analysis.ipynb\r\n"
     ]
    }
   ],
   "source": [
    "!ls"
   ]
  },
  {
   "cell_type": "code",
   "execution_count": 3,
   "metadata": {},
   "outputs": [],
   "source": [
    "cwd = os.getcwd()\n",
    "\n",
    "m_raw = pd.read_json(cwd+'/2018-01-12-stato-backup/monitors_1-12-18.json')\n",
    "r_raw = pd.read_json(cwd+'/2018-01-12-stato-backup/reports_1-12-18.json')"
   ]
  },
  {
   "cell_type": "markdown",
   "metadata": {},
   "source": [
    "## Examine Reports Data"
   ]
  },
  {
   "cell_type": "code",
   "execution_count": 4,
   "metadata": {},
   "outputs": [
    {
     "data": {
      "text/html": [
       "<div>\n",
       "<style scoped>\n",
       "    .dataframe tbody tr th:only-of-type {\n",
       "        vertical-align: middle;\n",
       "    }\n",
       "\n",
       "    .dataframe tbody tr th {\n",
       "        vertical-align: top;\n",
       "    }\n",
       "\n",
       "    .dataframe thead th {\n",
       "        text-align: right;\n",
       "    }\n",
       "</style>\n",
       "<table border=\"1\" class=\"dataframe\">\n",
       "  <thead>\n",
       "    <tr style=\"text-align: right;\">\n",
       "      <th></th>\n",
       "      <th>_id</th>\n",
       "      <th>content</th>\n",
       "      <th>data</th>\n",
       "      <th>gateway</th>\n",
       "      <th>monitors_id</th>\n",
       "      <th>received_at</th>\n",
       "      <th>report</th>\n",
       "      <th>status</th>\n",
       "    </tr>\n",
       "  </thead>\n",
       "  <tbody>\n",
       "    <tr>\n",
       "      <th>0</th>\n",
       "      <td>56a07e8f3a18eb2e00bf8f8a</td>\n",
       "      <td>BBn4AjDkqf4muQEA/LgBAAMAAAAI</td>\n",
       "      <td>NaN</td>\n",
       "      <td>http</td>\n",
       "      <td>56a07e8f3a18eb2e00bf8f89</td>\n",
       "      <td>NaT</td>\n",
       "      <td>{'version': 4, 'batteryVoltage': 4.12656249999...</td>\n",
       "      <td>unknown</td>\n",
       "    </tr>\n",
       "    <tr>\n",
       "      <th>1</th>\n",
       "      <td>56a07eda3a18eb2e00bf8f8c</td>\n",
       "      <td>BBn5At1Dgc0BPwAAtD4AAAMAAAAI</td>\n",
       "      <td>NaN</td>\n",
       "      <td>http</td>\n",
       "      <td>56a07eda3a18eb2e00bf8f8b</td>\n",
       "      <td>NaT</td>\n",
       "      <td>{'version': 4, 'batteryVoltage': 4.1319921875,...</td>\n",
       "      <td>unknown</td>\n",
       "    </tr>\n",
       "    <tr>\n",
       "      <th>2</th>\n",
       "      <td>56a07f053a18eb2e00bf8f8e</td>\n",
       "      <td>BBkBA2wv5g6FNwAAMjcAAAMAAAAI</td>\n",
       "      <td>NaN</td>\n",
       "      <td>http</td>\n",
       "      <td>56a07f053a18eb2e00bf8f8d</td>\n",
       "      <td>NaT</td>\n",
       "      <td>{'version': 4, 'batteryVoltage': 4.17542968749...</td>\n",
       "      <td>unknown</td>\n",
       "    </tr>\n",
       "  </tbody>\n",
       "</table>\n",
       "</div>"
      ],
      "text/plain": [
       "                        _id                       content data gateway  \\\n",
       "0  56a07e8f3a18eb2e00bf8f8a  BBn4AjDkqf4muQEA/LgBAAMAAAAI  NaN    http   \n",
       "1  56a07eda3a18eb2e00bf8f8c  BBn5At1Dgc0BPwAAtD4AAAMAAAAI  NaN    http   \n",
       "2  56a07f053a18eb2e00bf8f8e  BBkBA2wv5g6FNwAAMjcAAAMAAAAI  NaN    http   \n",
       "\n",
       "                monitors_id received_at  \\\n",
       "0  56a07e8f3a18eb2e00bf8f89         NaT   \n",
       "1  56a07eda3a18eb2e00bf8f8b         NaT   \n",
       "2  56a07f053a18eb2e00bf8f8d         NaT   \n",
       "\n",
       "                                              report   status  \n",
       "0  {'version': 4, 'batteryVoltage': 4.12656249999...  unknown  \n",
       "1  {'version': 4, 'batteryVoltage': 4.1319921875,...  unknown  \n",
       "2  {'version': 4, 'batteryVoltage': 4.17542968749...  unknown  "
      ]
     },
     "execution_count": 4,
     "metadata": {},
     "output_type": "execute_result"
    }
   ],
   "source": [
    "r_raw.head(3)"
   ]
  },
  {
   "cell_type": "code",
   "execution_count": 5,
   "metadata": {},
   "outputs": [
    {
     "data": {
      "text/plain": [
       "_id            1030\n",
       "content        1030\n",
       "data            962\n",
       "gateway        1030\n",
       "monitors_id    1030\n",
       "received_at     962\n",
       "report         1030\n",
       "status         1030\n",
       "dtype: int64"
      ]
     },
     "execution_count": 5,
     "metadata": {},
     "output_type": "execute_result"
    }
   ],
   "source": [
    "#count non-empty fields\n",
    "r_raw.count()"
   ]
  },
  {
   "cell_type": "markdown",
   "metadata": {},
   "source": [
    "### Austin's Notes"
   ]
  },
  {
   "cell_type": "markdown",
   "metadata": {},
   "source": [
    "**Data Quality**\n",
    "\n",
    "- Throw out any report without a 'received_at' value. Those should be the only reports with non-integer 'timestamp' values.\n",
    "\n",
    "- Timestamps under the \"report\" key should be mostly ignored.  They are relatively consistent (across reports from the same machine) but are not necessarily synchronized with the outside world.\n",
    "\n",
    "- \"report\" key is all raw data as received in the text message.  The \"data\" key has the server-parsed version of the report data, so it should be the same thing as the \"entries\" in the \"report\" but with normalized timestamps accounting for clock skew and other things.\n",
    "\n",
    "- The reports in that archive came from many different generations of monitoring devices.  This means the data will not be consistent across all reports, but should be consistent across reports for a given monitor device UUID."
   ]
  },
  {
   "cell_type": "code",
   "execution_count": 6,
   "metadata": {},
   "outputs": [],
   "source": [
    "#drop rows without 'received_at' as per first data point above\n",
    "r_rec_at = r_raw.dropna(subset=['received_at'])"
   ]
  },
  {
   "cell_type": "markdown",
   "metadata": {},
   "source": [
    "** Data Description **\n",
    "- The data.8 key is actually what you might want, and the two values in the tuple are a standard unix timestamp (milliseconds since January 1, 1970) and a sensor reading value.  In your example, this means the sensor read the value \"3\" on 1/26/2016 at around 9:14am UTC (plus 55 seconds and change).\n",
    "\n",
    "- 9: This is a baseline sensor reading from which the quartiles were calculated.  It probably doesn't mean much since it is a raw ultrasonic time of flight measurement and dependent on environmental conditions. \n",
    "\n",
    "- 10: The number of sensor reading errors (almost always 0, used for diagnostics)\n",
    "\n",
    "- 11, 12, 13, 14: The number of sensor readings in the 1st, 2nd, 3rd, and 4th quartile, respectively.  Unfortunately I can't recall and don't have source code to reference to determine the interval for these quartiles or how they were calculated from the baseline value.  The sum of streams 11, 12, 13, and 14 for a given timestamp should always be about 360 since there are (give or take 1) 360 readings per interval.  If all four buckets are 0 then the sensor was probably malfunctioning and the sensor wasn't reporting any values to the controller unit.\n",
    "\n",
    "- To use these bucketed values, qualitatively you can think of it this way - if all 360 ticks were in bucket 11 (first quartile) then there was no (or negligible) water flowing through the pipe for the entirety of a given interval.  Any non-zero value in buckets 12, 13, or 14 means that for that interval there were several ticks during which some volume of water flow was detected.  The higher buckets mean faster flow. For a given report there should be 24 intervals, so 24 values in streams 11, 12, 13, and 14.  The timestamp for these readings indicate when the sensor reported that value, and the 360 readings occurred at evenly spaced increments before that timestamp."
   ]
  },
  {
   "cell_type": "markdown",
   "metadata": {},
   "source": [
    "** Data Dictionary**\n",
    "\n",
    "_id - A unique ID for the report, generated by the server  \n",
    "gateway - How the report was received (usually HTTP for later-model monitors since we moved from SMS to direct GPRS HTTP requests)  \n",
    "content - The raw data received by the gateway, this is the base64-encoded report.  \n",
    "received_at - The timestamp of receipt by the server, milliseconds since 1970  \n",
    "monitors_id - The globally unique ID of the monitor associated with this report  \n",
    "report - The parsed report.  This contains the same data as the base64-encoded content and the data key, and reflects exactly what is in the report without any normalization or modification. (sub-keys are version, batteryVoltage, uuid, timestamp, and entries, an array of readings)  \n",
    "data - The parsed and normalized sensor streams in this report.  Each sub-key is a stream and each sub-value is an array of (timestamp, value) tuples.  \n",
    "data.battery - The timestamped battery voltage received with this report  \n",
    "data.9 - The timestamped baseline ultrasound time-of-flight values  \n",
    "data.10 - The timestamped sensor error counts  \n",
    "data.11/12/13/14 - The timestamped sensor bucket counts (see above)  "
   ]
  },
  {
   "cell_type": "code",
   "execution_count": 7,
   "metadata": {
    "scrolled": true
   },
   "outputs": [
    {
     "data": {
      "text/plain": [
       "{'8': [[1454144756670, 3]],\n",
       " '9': [[1454144746669, 4506],\n",
       "  [1454148346937, 4512],\n",
       "  [1454151947206, 4512],\n",
       "  [1454155547474, 4512],\n",
       "  [1454159147742, 4523],\n",
       "  [1454162748010, 4511],\n",
       "  [1454166348279, 4493],\n",
       "  [1454169948547, 4488],\n",
       "  [1454173548815, 4486],\n",
       "  [1454177149083, 4486],\n",
       "  [1454180749352, 4487],\n",
       "  [1454184349620, 4488],\n",
       "  [1454187949888, 4488],\n",
       "  [1454191550157, 4488],\n",
       "  [1454195150425, 4488],\n",
       "  [1454198750693, 4488],\n",
       "  [1454202350961, 4486],\n",
       "  [1454205951230, 4486],\n",
       "  [1454209551498, 4486],\n",
       "  [1454213151766, 4486],\n",
       "  [1454216752035, 4485],\n",
       "  [1454220352303, 4486],\n",
       "  [1454223952571, 4485],\n",
       "  [1454227552839, 4485]],\n",
       " '10': [[1454148336937, 0],\n",
       "  [1454151937205, 0],\n",
       "  [1454155537473, 0],\n",
       "  [1454159137741, 0],\n",
       "  [1454162738010, 0],\n",
       "  [1454166338278, 0],\n",
       "  [1454169938546, 0],\n",
       "  [1454173538814, 0],\n",
       "  [1454177139083, 0],\n",
       "  [1454180739351, 0],\n",
       "  [1454184339619, 0],\n",
       "  [1454187939888, 0],\n",
       "  [1454191540156, 0],\n",
       "  [1454195140424, 0],\n",
       "  [1454198740692, 0],\n",
       "  [1454202340961, 0],\n",
       "  [1454205941229, 0],\n",
       "  [1454209541497, 0],\n",
       "  [1454213141766, 0],\n",
       "  [1454216742034, 0],\n",
       "  [1454220342302, 0],\n",
       "  [1454223942570, 0],\n",
       "  [1454227542839, 0]],\n",
       " '11': [[1454148336937, 358],\n",
       "  [1454151937205, 359],\n",
       "  [1454155537473, 359],\n",
       "  [1454159137741, 358],\n",
       "  [1454162738010, 2],\n",
       "  [1454166338278, 0],\n",
       "  [1454169938546, 358],\n",
       "  [1454173538814, 359],\n",
       "  [1454177139083, 359],\n",
       "  [1454180739351, 359],\n",
       "  [1454184339619, 359],\n",
       "  [1454187939888, 359],\n",
       "  [1454191540156, 359],\n",
       "  [1454195140424, 359],\n",
       "  [1454198740692, 359],\n",
       "  [1454202340961, 359],\n",
       "  [1454205941229, 357],\n",
       "  [1454209541497, 359],\n",
       "  [1454213141766, 359],\n",
       "  [1454216742034, 359],\n",
       "  [1454220342302, 359],\n",
       "  [1454223942570, 359],\n",
       "  [1454227542839, 359]],\n",
       " '12': [[1454148336937, 1],\n",
       "  [1454151937205, 1],\n",
       "  [1454155537473, 1],\n",
       "  [1454159137741, 2],\n",
       "  [1454162738010, 357],\n",
       "  [1454166338278, 359],\n",
       "  [1454169938546, 1],\n",
       "  [1454173538814, 1],\n",
       "  [1454177139083, 1],\n",
       "  [1454180739351, 1],\n",
       "  [1454184339619, 1],\n",
       "  [1454187939888, 1],\n",
       "  [1454191540156, 1],\n",
       "  [1454195140424, 1],\n",
       "  [1454198740692, 1],\n",
       "  [1454202340961, 1],\n",
       "  [1454205941229, 1],\n",
       "  [1454209541497, 1],\n",
       "  [1454213141766, 1],\n",
       "  [1454216742034, 1],\n",
       "  [1454220342302, 1],\n",
       "  [1454223942570, 1],\n",
       "  [1454227542839, 1]],\n",
       " '13': [[1454148336937, 0],\n",
       "  [1454151937205, 0],\n",
       "  [1454155537473, 0],\n",
       "  [1454159137741, 0],\n",
       "  [1454162738010, 1],\n",
       "  [1454166338278, 1],\n",
       "  [1454169938546, 1],\n",
       "  [1454173538814, 0],\n",
       "  [1454177139083, 0],\n",
       "  [1454180739351, 0],\n",
       "  [1454184339619, 0],\n",
       "  [1454187939888, 0],\n",
       "  [1454191540156, 0],\n",
       "  [1454195140424, 0],\n",
       "  [1454198740692, 0],\n",
       "  [1454202340961, 0],\n",
       "  [1454205941229, 0],\n",
       "  [1454209541497, 0],\n",
       "  [1454213141766, 0],\n",
       "  [1454216742034, 0],\n",
       "  [1454220342302, 0],\n",
       "  [1454223942570, 0],\n",
       "  [1454227542839, 0]],\n",
       " '14': [[1454148336937, 0],\n",
       "  [1454151937205, 0],\n",
       "  [1454155537473, 0],\n",
       "  [1454159137741, 0],\n",
       "  [1454162738010, 0],\n",
       "  [1454166338278, 0],\n",
       "  [1454169938546, 0],\n",
       "  [1454173538814, 0],\n",
       "  [1454177139083, 0],\n",
       "  [1454180739351, 0],\n",
       "  [1454184339619, 0],\n",
       "  [1454187939888, 0],\n",
       "  [1454191540156, 0],\n",
       "  [1454195140424, 0],\n",
       "  [1454198740692, 0],\n",
       "  [1454202340961, 0],\n",
       "  [1454205941229, 0],\n",
       "  [1454209541497, 0],\n",
       "  [1454213141766, 0],\n",
       "  [1454216742034, 0],\n",
       "  [1454220342302, 0],\n",
       "  [1454223942570, 0],\n",
       "  [1454227542839, 0]],\n",
       " 'battery': [[1454231164109, 3.703046874999999]]}"
      ]
     },
     "execution_count": 7,
     "metadata": {},
     "output_type": "execute_result"
    }
   ],
   "source": [
    "#sample from \"data\" column containing arrays of tuples for each key 8-14, use 8 and 11-14 for now\n",
    "r_rec_at.data[269]"
   ]
  },
  {
   "cell_type": "code",
   "execution_count": 8,
   "metadata": {},
   "outputs": [],
   "source": [
    "#extract device id, and streams 8,9, 11-14\n",
    "ids = r_rec_at['monitors_id']\n",
    "sensor_reading = r_rec_at.data.apply(lambda x: x.get('8'))\n",
    "quartile_baseline = r_rec_at.data.apply(lambda x: x.get('9'))\n",
    "q1 = r_rec_at.data.apply(lambda x: x.get('11'))\n",
    "q2 = r_rec_at.data.apply(lambda x: x.get('12'))\n",
    "q3 = r_rec_at.data.apply(lambda x: x.get('13'))\n",
    "q4 = r_rec_at.data.apply(lambda x: x.get('14'))"
   ]
  },
  {
   "cell_type": "code",
   "execution_count": 10,
   "metadata": {},
   "outputs": [],
   "source": [
    "#put stream data in new dataframe for convenience\n",
    "data_df = pd.concat([ids, sensor_reading, quartile_baseline,\n",
    "                     q1, q2, q3, q4], \n",
    "                    axis=1)"
   ]
  },
  {
   "cell_type": "code",
   "execution_count": 11,
   "metadata": {},
   "outputs": [],
   "source": [
    "#rename columns, 8: reading, 9: baseline_9, 11-14:q1_count - q4_count\n",
    "data_df.columns = ['id','reading_8','baseline_9','q1','q2','q3','q4']"
   ]
  },
  {
   "cell_type": "code",
   "execution_count": 12,
   "metadata": {},
   "outputs": [
    {
     "data": {
      "text/html": [
       "<div>\n",
       "<style scoped>\n",
       "    .dataframe tbody tr th:only-of-type {\n",
       "        vertical-align: middle;\n",
       "    }\n",
       "\n",
       "    .dataframe tbody tr th {\n",
       "        vertical-align: top;\n",
       "    }\n",
       "\n",
       "    .dataframe thead th {\n",
       "        text-align: right;\n",
       "    }\n",
       "</style>\n",
       "<table border=\"1\" class=\"dataframe\">\n",
       "  <thead>\n",
       "    <tr style=\"text-align: right;\">\n",
       "      <th></th>\n",
       "      <th>id</th>\n",
       "      <th>reading_8</th>\n",
       "      <th>baseline_9</th>\n",
       "      <th>q1</th>\n",
       "      <th>q2</th>\n",
       "      <th>q3</th>\n",
       "      <th>q4</th>\n",
       "    </tr>\n",
       "  </thead>\n",
       "  <tbody>\n",
       "    <tr>\n",
       "      <th>68</th>\n",
       "      <td>56a0834d3a18eb2e00bf8fad</td>\n",
       "      <td>[[1453778596300, 3]]</td>\n",
       "      <td>None</td>\n",
       "      <td>None</td>\n",
       "      <td>None</td>\n",
       "      <td>None</td>\n",
       "      <td>None</td>\n",
       "    </tr>\n",
       "    <tr>\n",
       "      <th>69</th>\n",
       "      <td>56a0834d3a18eb2e00bf8fad</td>\n",
       "      <td>[[1453779744274, 3]]</td>\n",
       "      <td>None</td>\n",
       "      <td>None</td>\n",
       "      <td>None</td>\n",
       "      <td>None</td>\n",
       "      <td>None</td>\n",
       "    </tr>\n",
       "    <tr>\n",
       "      <th>70</th>\n",
       "      <td>56a0834d3a18eb2e00bf8fad</td>\n",
       "      <td>[[1453780201064, 3]]</td>\n",
       "      <td>None</td>\n",
       "      <td>None</td>\n",
       "      <td>None</td>\n",
       "      <td>None</td>\n",
       "      <td>None</td>\n",
       "    </tr>\n",
       "  </tbody>\n",
       "</table>\n",
       "</div>"
      ],
      "text/plain": [
       "                          id             reading_8 baseline_9    q1    q2  \\\n",
       "68  56a0834d3a18eb2e00bf8fad  [[1453778596300, 3]]       None  None  None   \n",
       "69  56a0834d3a18eb2e00bf8fad  [[1453779744274, 3]]       None  None  None   \n",
       "70  56a0834d3a18eb2e00bf8fad  [[1453780201064, 3]]       None  None  None   \n",
       "\n",
       "      q3    q4  \n",
       "68  None  None  \n",
       "69  None  None  \n",
       "70  None  None  "
      ]
     },
     "execution_count": 12,
     "metadata": {},
     "output_type": "execute_result"
    }
   ],
   "source": [
    "data_df.head(3)"
   ]
  },
  {
   "cell_type": "code",
   "execution_count": 13,
   "metadata": {},
   "outputs": [
    {
     "data": {
      "text/plain": [
       "id            962\n",
       "reading_8     301\n",
       "baseline_9    616\n",
       "q1            750\n",
       "q2            750\n",
       "q3            750\n",
       "q4            747\n",
       "dtype: int64"
      ]
     },
     "execution_count": 13,
     "metadata": {},
     "output_type": "execute_result"
    }
   ],
   "source": [
    "#count fields\n",
    "data_df.count()"
   ]
  },
  {
   "cell_type": "code",
   "execution_count": 14,
   "metadata": {},
   "outputs": [
    {
     "data": {
      "text/plain": [
       "48"
      ]
     },
     "execution_count": 14,
     "metadata": {},
     "output_type": "execute_result"
    }
   ],
   "source": [
    "#number of unique devices\n",
    "data_df.id.unique().size"
   ]
  },
  {
   "cell_type": "code",
   "execution_count": 18,
   "metadata": {},
   "outputs": [
    {
     "data": {
      "text/plain": [
       "3    168\n",
       "0    133\n",
       "Name: reading_8, dtype: int64"
      ]
     },
     "execution_count": 18,
     "metadata": {},
     "output_type": "execute_result"
    }
   ],
   "source": [
    "#For all rows with stream 8 present, find distribution of values\n",
    "data_df.reading_8.dropna().map(lambda x: x[0][1]).value_counts()"
   ]
  },
  {
   "cell_type": "markdown",
   "metadata": {},
   "source": [
    "### Restrict to rows with all columns present"
   ]
  },
  {
   "cell_type": "code",
   "execution_count": 24,
   "metadata": {},
   "outputs": [
    {
     "data": {
      "text/plain": [
       "id            89\n",
       "reading_8     89\n",
       "baseline_9    89\n",
       "q1            89\n",
       "q2            89\n",
       "q3            89\n",
       "q4            89\n",
       "dtype: int64"
      ]
     },
     "execution_count": 24,
     "metadata": {},
     "output_type": "execute_result"
    }
   ],
   "source": [
    "data_df.dropna().count()"
   ]
  },
  {
   "cell_type": "code",
   "execution_count": 26,
   "metadata": {},
   "outputs": [
    {
     "data": {
      "text/plain": [
       "46"
      ]
     },
     "execution_count": 26,
     "metadata": {},
     "output_type": "execute_result"
    }
   ],
   "source": [
    "#num unique device ids\n",
    "data_df.dropna().id.unique().size"
   ]
  },
  {
   "cell_type": "markdown",
   "metadata": {},
   "source": [
    "**So from above, 89 data rows for 46 devices**"
   ]
  },
  {
   "cell_type": "code",
   "execution_count": 28,
   "metadata": {},
   "outputs": [
    {
     "data": {
      "text/plain": [
       "1    20\n",
       "2    14\n",
       "3     8\n",
       "4     3\n",
       "5     1\n",
       "Name: id, dtype: int64"
      ]
     },
     "execution_count": 28,
     "metadata": {},
     "output_type": "execute_result"
    }
   ],
   "source": [
    "#get distribution of number of reports per device\n",
    "data_df.dropna().id.value_counts().value_counts()"
   ]
  },
  {
   "cell_type": "markdown",
   "metadata": {},
   "source": [
    "From above, we see most devices have 1 or 2 reports (34 total), but 4 devices have 4 or 5 reports total. Let's look at these ones first"
   ]
  },
  {
   "cell_type": "code",
   "execution_count": 31,
   "metadata": {},
   "outputs": [
    {
     "data": {
      "text/plain": [
       "56a084cd3a18eb2e00bf8fb9    5\n",
       "56a080443a18eb2e00bf8fa3    4\n",
       "56a0803e3a18eb2e00bf8fa1    4\n",
       "56a086e13a18eb2e00bf8fe8    4\n",
       "56a0866d3a18eb2e00bf8fdf    3\n",
       "Name: id, dtype: int64"
      ]
     },
     "execution_count": 31,
     "metadata": {},
     "output_type": "execute_result"
    }
   ],
   "source": [
    "#get ids of devices and their report counts\n",
    "data_df.dropna().id.value_counts().head()"
   ]
  },
  {
   "cell_type": "markdown",
   "metadata": {},
   "source": [
    "Using the top listed device as a sample:"
   ]
  },
  {
   "cell_type": "code",
   "execution_count": 35,
   "metadata": {},
   "outputs": [],
   "source": [
    "single_device_data = data_df[data_df.id=='56a084cd3a18eb2e00bf8fb9'].dropna()"
   ]
  },
  {
   "cell_type": "code",
   "execution_count": 55,
   "metadata": {},
   "outputs": [
    {
     "data": {
      "text/html": [
       "<div>\n",
       "<style scoped>\n",
       "    .dataframe tbody tr th:only-of-type {\n",
       "        vertical-align: middle;\n",
       "    }\n",
       "\n",
       "    .dataframe tbody tr th {\n",
       "        vertical-align: top;\n",
       "    }\n",
       "\n",
       "    .dataframe thead th {\n",
       "        text-align: right;\n",
       "    }\n",
       "</style>\n",
       "<table border=\"1\" class=\"dataframe\">\n",
       "  <thead>\n",
       "    <tr style=\"text-align: right;\">\n",
       "      <th></th>\n",
       "      <th>id</th>\n",
       "      <th>reading_8</th>\n",
       "      <th>baseline_9</th>\n",
       "      <th>q1</th>\n",
       "      <th>q2</th>\n",
       "      <th>q3</th>\n",
       "      <th>q4</th>\n",
       "    </tr>\n",
       "  </thead>\n",
       "  <tbody>\n",
       "    <tr>\n",
       "      <th>152</th>\n",
       "      <td>56a084cd3a18eb2e00bf8fb9</td>\n",
       "      <td>[[1453901295071, 0]]</td>\n",
       "      <td>[[1453901285070, 4202], [1453901335074, 4263],...</td>\n",
       "      <td>[[1453904875360, 0], [1453908475651, 0], [1453...</td>\n",
       "      <td>[[1453904875360, 0], [1453908475651, 0], [1453...</td>\n",
       "      <td>[[1453904875360, 0], [1453908475651, 0], [1453...</td>\n",
       "      <td>[[1453904875360, 0], [1453908475651, 0], [1453...</td>\n",
       "    </tr>\n",
       "    <tr>\n",
       "      <th>194</th>\n",
       "      <td>56a084cd3a18eb2e00bf8fb9</td>\n",
       "      <td>[[1454037939666, 3]]</td>\n",
       "      <td>[[1454037929665, 4478], [1454037959667, 4270],...</td>\n",
       "      <td>[[1454041519911, 290], [1454045120157, 247], [...</td>\n",
       "      <td>[[1454041519911, 3], [1454045120157, 111], [14...</td>\n",
       "      <td>[[1454041519911, 0], [1454045120157, 0], [1454...</td>\n",
       "      <td>[[1454041519911, 0], [1454045120157, 0], [1454...</td>\n",
       "    </tr>\n",
       "    <tr>\n",
       "      <th>655</th>\n",
       "      <td>56a084cd3a18eb2e00bf8fb9</td>\n",
       "      <td>[[1471264514665, 0]]</td>\n",
       "      <td>[[1471264504522, 4037], [1471268155805, 4268],...</td>\n",
       "      <td>[[1471268145662, 0], [1471271796945, 0], [1471...</td>\n",
       "      <td>[[1471268145662, 0], [1471271796945, 18], [147...</td>\n",
       "      <td>[[1471268145662, 0], [1471271796945, 136], [14...</td>\n",
       "      <td>[[1471268145662, 0], [1471271796945, 165], [14...</td>\n",
       "    </tr>\n",
       "    <tr>\n",
       "      <th>888</th>\n",
       "      <td>56a084cd3a18eb2e00bf8fb9</td>\n",
       "      <td>[[1481112551802, 0]]</td>\n",
       "      <td>[[1481112541667, 3837], [1481116190230, 4093],...</td>\n",
       "      <td>[[1481116180095, 3], [1481119828658, 23], [148...</td>\n",
       "      <td>[[1481116180095, 1], [1481119828658, 16], [148...</td>\n",
       "      <td>[[1481116180095, 0], [1481119828658, 13], [148...</td>\n",
       "      <td>[[1481116180095, 0], [1481119828658, 15], [148...</td>\n",
       "    </tr>\n",
       "    <tr>\n",
       "      <th>922</th>\n",
       "      <td>56a084cd3a18eb2e00bf8fb9</td>\n",
       "      <td>[[1487149562188, 0]]</td>\n",
       "      <td>[[1487149552187, 4294], [1487153152555, 4902],...</td>\n",
       "      <td>[[1487153142554, 166], [1487156742923, 0], [14...</td>\n",
       "      <td>[[1487153142554, 67], [1487156742923, 0], [148...</td>\n",
       "      <td>[[1487153142554, 36], [1487156742923, 0], [148...</td>\n",
       "      <td>[[1487153142554, 19], [1487156742923, 0], [148...</td>\n",
       "    </tr>\n",
       "  </tbody>\n",
       "</table>\n",
       "</div>"
      ],
      "text/plain": [
       "                           id             reading_8  \\\n",
       "152  56a084cd3a18eb2e00bf8fb9  [[1453901295071, 0]]   \n",
       "194  56a084cd3a18eb2e00bf8fb9  [[1454037939666, 3]]   \n",
       "655  56a084cd3a18eb2e00bf8fb9  [[1471264514665, 0]]   \n",
       "888  56a084cd3a18eb2e00bf8fb9  [[1481112551802, 0]]   \n",
       "922  56a084cd3a18eb2e00bf8fb9  [[1487149562188, 0]]   \n",
       "\n",
       "                                            baseline_9  \\\n",
       "152  [[1453901285070, 4202], [1453901335074, 4263],...   \n",
       "194  [[1454037929665, 4478], [1454037959667, 4270],...   \n",
       "655  [[1471264504522, 4037], [1471268155805, 4268],...   \n",
       "888  [[1481112541667, 3837], [1481116190230, 4093],...   \n",
       "922  [[1487149552187, 4294], [1487153152555, 4902],...   \n",
       "\n",
       "                                                    q1  \\\n",
       "152  [[1453904875360, 0], [1453908475651, 0], [1453...   \n",
       "194  [[1454041519911, 290], [1454045120157, 247], [...   \n",
       "655  [[1471268145662, 0], [1471271796945, 0], [1471...   \n",
       "888  [[1481116180095, 3], [1481119828658, 23], [148...   \n",
       "922  [[1487153142554, 166], [1487156742923, 0], [14...   \n",
       "\n",
       "                                                    q2  \\\n",
       "152  [[1453904875360, 0], [1453908475651, 0], [1453...   \n",
       "194  [[1454041519911, 3], [1454045120157, 111], [14...   \n",
       "655  [[1471268145662, 0], [1471271796945, 18], [147...   \n",
       "888  [[1481116180095, 1], [1481119828658, 16], [148...   \n",
       "922  [[1487153142554, 67], [1487156742923, 0], [148...   \n",
       "\n",
       "                                                    q3  \\\n",
       "152  [[1453904875360, 0], [1453908475651, 0], [1453...   \n",
       "194  [[1454041519911, 0], [1454045120157, 0], [1454...   \n",
       "655  [[1471268145662, 0], [1471271796945, 136], [14...   \n",
       "888  [[1481116180095, 0], [1481119828658, 13], [148...   \n",
       "922  [[1487153142554, 36], [1487156742923, 0], [148...   \n",
       "\n",
       "                                                    q4  \n",
       "152  [[1453904875360, 0], [1453908475651, 0], [1453...  \n",
       "194  [[1454041519911, 0], [1454045120157, 0], [1454...  \n",
       "655  [[1471268145662, 0], [1471271796945, 165], [14...  \n",
       "888  [[1481116180095, 0], [1481119828658, 15], [148...  \n",
       "922  [[1487153142554, 19], [1487156742923, 0], [148...  "
      ]
     },
     "execution_count": 55,
     "metadata": {},
     "output_type": "execute_result"
    }
   ],
   "source": [
    "single_device_data"
   ]
  },
  {
   "cell_type": "markdown",
   "metadata": {},
   "source": [
    "Below: For this particular device, there are 5 reports; 4 have 23 elements in the timeseries and 1 has 47."
   ]
  },
  {
   "cell_type": "code",
   "execution_count": 51,
   "metadata": {},
   "outputs": [
    {
     "data": {
      "text/html": [
       "<div>\n",
       "<style scoped>\n",
       "    .dataframe tbody tr th:only-of-type {\n",
       "        vertical-align: middle;\n",
       "    }\n",
       "\n",
       "    .dataframe tbody tr th {\n",
       "        vertical-align: top;\n",
       "    }\n",
       "\n",
       "    .dataframe thead th {\n",
       "        text-align: right;\n",
       "    }\n",
       "</style>\n",
       "<table border=\"1\" class=\"dataframe\">\n",
       "  <thead>\n",
       "    <tr style=\"text-align: right;\">\n",
       "      <th></th>\n",
       "      <th>id</th>\n",
       "      <th>reading_8</th>\n",
       "      <th>baseline_9</th>\n",
       "      <th>q1</th>\n",
       "      <th>q2</th>\n",
       "      <th>q3</th>\n",
       "      <th>q4</th>\n",
       "    </tr>\n",
       "  </thead>\n",
       "  <tbody>\n",
       "    <tr>\n",
       "      <th>152</th>\n",
       "      <td>24</td>\n",
       "      <td>1</td>\n",
       "      <td>7</td>\n",
       "      <td>23</td>\n",
       "      <td>23</td>\n",
       "      <td>23</td>\n",
       "      <td>23</td>\n",
       "    </tr>\n",
       "    <tr>\n",
       "      <th>194</th>\n",
       "      <td>24</td>\n",
       "      <td>1</td>\n",
       "      <td>28</td>\n",
       "      <td>23</td>\n",
       "      <td>23</td>\n",
       "      <td>23</td>\n",
       "      <td>23</td>\n",
       "    </tr>\n",
       "    <tr>\n",
       "      <th>655</th>\n",
       "      <td>24</td>\n",
       "      <td>1</td>\n",
       "      <td>24</td>\n",
       "      <td>23</td>\n",
       "      <td>23</td>\n",
       "      <td>23</td>\n",
       "      <td>23</td>\n",
       "    </tr>\n",
       "    <tr>\n",
       "      <th>888</th>\n",
       "      <td>24</td>\n",
       "      <td>1</td>\n",
       "      <td>48</td>\n",
       "      <td>47</td>\n",
       "      <td>47</td>\n",
       "      <td>47</td>\n",
       "      <td>47</td>\n",
       "    </tr>\n",
       "    <tr>\n",
       "      <th>922</th>\n",
       "      <td>24</td>\n",
       "      <td>1</td>\n",
       "      <td>24</td>\n",
       "      <td>23</td>\n",
       "      <td>23</td>\n",
       "      <td>23</td>\n",
       "      <td>23</td>\n",
       "    </tr>\n",
       "  </tbody>\n",
       "</table>\n",
       "</div>"
      ],
      "text/plain": [
       "     id  reading_8  baseline_9  q1  q2  q3  q4\n",
       "152  24          1           7  23  23  23  23\n",
       "194  24          1          28  23  23  23  23\n",
       "655  24          1          24  23  23  23  23\n",
       "888  24          1          48  47  47  47  47\n",
       "922  24          1          24  23  23  23  23"
      ]
     },
     "execution_count": 51,
     "metadata": {},
     "output_type": "execute_result"
    }
   ],
   "source": [
    "#get length of each timeseries array\n",
    "single_device_data.applymap(lambda x: len(x))"
   ]
  },
  {
   "cell_type": "markdown",
   "metadata": {},
   "source": [
    "I think the dates below are when the device received a report? I am using stream 8 and parsing the dates for each row of data"
   ]
  },
  {
   "cell_type": "code",
   "execution_count": 49,
   "metadata": {},
   "outputs": [
    {
     "data": {
      "text/plain": [
       "152   2016-01-27 13:28:15.071\n",
       "194   2016-01-29 03:25:39.666\n",
       "655   2016-08-15 12:35:14.665\n",
       "888   2016-12-07 12:09:11.802\n",
       "922   2017-02-15 09:06:02.188\n",
       "Name: reading_8, dtype: datetime64[ns]"
      ]
     },
     "execution_count": 49,
     "metadata": {},
     "output_type": "execute_result"
    }
   ],
   "source": [
    "#convert timestamps from stream 8 to dates\n",
    "single_device_data.reading_8.map(lambda x: pd.to_datetime(x[0][0], unit='ms'))"
   ]
  },
  {
   "cell_type": "markdown",
   "metadata": {},
   "source": [
    "### Convert 1 row (report) of device data to new dataframe with timestamp, flow level data"
   ]
  },
  {
   "cell_type": "code",
   "execution_count": 81,
   "metadata": {},
   "outputs": [
    {
     "data": {
      "text/plain": [
       "[[1453904875360, 0],\n",
       " [1453908475651, 0],\n",
       " [1453912075942, 0],\n",
       " [1453915676233, 0],\n",
       " [1453919276524, 0]]"
      ]
     },
     "execution_count": 81,
     "metadata": {},
     "output_type": "execute_result"
    }
   ],
   "source": [
    "single_row['q1'][:5]"
   ]
  },
  {
   "cell_type": "markdown",
   "metadata": {},
   "source": [
    "The cell below extracts the nested timeseries array from each stream column and puts it in a new dataframe for plotting and further processing."
   ]
  },
  {
   "cell_type": "code",
   "execution_count": 110,
   "metadata": {},
   "outputs": [
    {
     "data": {
      "text/html": [
       "<div>\n",
       "<style scoped>\n",
       "    .dataframe tbody tr th:only-of-type {\n",
       "        vertical-align: middle;\n",
       "    }\n",
       "\n",
       "    .dataframe tbody tr th {\n",
       "        vertical-align: top;\n",
       "    }\n",
       "\n",
       "    .dataframe thead th {\n",
       "        text-align: right;\n",
       "    }\n",
       "</style>\n",
       "<table border=\"1\" class=\"dataframe\">\n",
       "  <thead>\n",
       "    <tr style=\"text-align: right;\">\n",
       "      <th></th>\n",
       "      <th>q1</th>\n",
       "      <th>q2</th>\n",
       "      <th>q3</th>\n",
       "      <th>q4</th>\n",
       "    </tr>\n",
       "    <tr>\n",
       "      <th>datetime</th>\n",
       "      <th></th>\n",
       "      <th></th>\n",
       "      <th></th>\n",
       "      <th></th>\n",
       "    </tr>\n",
       "  </thead>\n",
       "  <tbody>\n",
       "    <tr>\n",
       "      <th>2016-08-15 13:35:45.662</th>\n",
       "      <td>0</td>\n",
       "      <td>0</td>\n",
       "      <td>0</td>\n",
       "      <td>0</td>\n",
       "    </tr>\n",
       "    <tr>\n",
       "      <th>2016-08-15 14:36:36.945</th>\n",
       "      <td>0</td>\n",
       "      <td>18</td>\n",
       "      <td>136</td>\n",
       "      <td>165</td>\n",
       "    </tr>\n",
       "    <tr>\n",
       "      <th>2016-08-15 15:37:28.227</th>\n",
       "      <td>8</td>\n",
       "      <td>109</td>\n",
       "      <td>159</td>\n",
       "      <td>47</td>\n",
       "    </tr>\n",
       "    <tr>\n",
       "      <th>2016-08-15 16:38:19.509</th>\n",
       "      <td>37</td>\n",
       "      <td>145</td>\n",
       "      <td>81</td>\n",
       "      <td>42</td>\n",
       "    </tr>\n",
       "    <tr>\n",
       "      <th>2016-08-15 17:39:10.791</th>\n",
       "      <td>44</td>\n",
       "      <td>185</td>\n",
       "      <td>74</td>\n",
       "      <td>42</td>\n",
       "    </tr>\n",
       "  </tbody>\n",
       "</table>\n",
       "</div>"
      ],
      "text/plain": [
       "                         q1   q2   q3   q4\n",
       "datetime                                  \n",
       "2016-08-15 13:35:45.662   0    0    0    0\n",
       "2016-08-15 14:36:36.945   0   18  136  165\n",
       "2016-08-15 15:37:28.227   8  109  159   47\n",
       "2016-08-15 16:38:19.509  37  145   81   42\n",
       "2016-08-15 17:39:10.791  44  185   74   42"
      ]
     },
     "execution_count": 110,
     "metadata": {},
     "output_type": "execute_result"
    }
   ],
   "source": [
    "#get one row/day of device data, in this case row 655 from above, 2016-08-15 12:35:14.665\n",
    "single_row = single_device_data.loc[655]\n",
    "\n",
    "#extract quartile stream data from nested arrays into new dataframe for plotting\n",
    "plot_df = pd.DataFrame()\n",
    "plot_df['datetime'] = [pd.to_datetime(i[0],unit='ms') for i in single_row.q1]\n",
    "\n",
    "for col in ['q1','q2','q3','q4']:\n",
    "    plot_df[col] = [i[1] for i in single_row[col]]\n",
    "    \n",
    "plot_df = plot_df.set_index('datetime')\n",
    "plot_df.head()"
   ]
  },
  {
   "cell_type": "markdown",
   "metadata": {},
   "source": [
    "**AUSTIN Question: **  \n",
    "In theory, the sum of q1 to q4 in each of these rows should be 360 (see below)?  \n",
    "If not what are reasons?"
   ]
  },
  {
   "cell_type": "code",
   "execution_count": 112,
   "metadata": {},
   "outputs": [
    {
     "data": {
      "text/plain": [
       "datetime\n",
       "2016-08-15 13:35:45.662      0\n",
       "2016-08-15 14:36:36.945    319\n",
       "2016-08-15 15:37:28.227    323\n",
       "2016-08-15 16:38:19.509    305\n",
       "2016-08-15 17:39:10.791    345\n",
       "2016-08-15 18:40:02.074    196\n",
       "2016-08-15 19:40:53.356    273\n",
       "2016-08-15 20:41:44.638    360\n",
       "2016-08-15 21:42:35.921     84\n",
       "2016-08-15 22:43:27.203    106\n",
       "2016-08-15 23:44:18.485    302\n",
       "2016-08-16 00:45:09.767    350\n",
       "2016-08-16 01:46:01.050    360\n",
       "2016-08-16 02:46:52.332    173\n",
       "2016-08-16 03:47:43.614      0\n",
       "2016-08-16 04:48:34.897    337\n",
       "2016-08-16 05:49:26.179    269\n",
       "2016-08-16 06:50:17.461    289\n",
       "2016-08-16 07:51:08.743    143\n",
       "2016-08-16 08:52:00.026    204\n",
       "2016-08-16 09:52:51.308      8\n",
       "2016-08-16 10:53:42.590    135\n",
       "2016-08-16 11:54:33.873    112\n",
       "dtype: int64"
      ]
     },
     "execution_count": 112,
     "metadata": {},
     "output_type": "execute_result"
    }
   ],
   "source": [
    "plot_df.sum(axis=1)"
   ]
  },
  {
   "cell_type": "markdown",
   "metadata": {},
   "source": [
    "### Plot one report for one device"
   ]
  },
  {
   "cell_type": "code",
   "execution_count": 121,
   "metadata": {},
   "outputs": [
    {
     "data": {
      "text/plain": [
       "<matplotlib.legend.Legend at 0x1a27826320>"
      ]
     },
     "execution_count": 121,
     "metadata": {},
     "output_type": "execute_result"
    },
    {
     "data": {
      "image/png": "[encoded data removed]",
      "text/plain": [
       "<Figure size 648x288 with 1 Axes>"
      ]
     },
     "metadata": {},
     "output_type": "display_data"
    }
   ],
   "source": [
    "#use pandas for easy plotting, get axes\n",
    "ax = plot_df.plot.bar(stacked=True, figsize=(9,4)) \n",
    "\n",
    "#labels and fonts\n",
    "# ax.set_xlabel('date')\n",
    "ax.set_ylabel('Flow')\n",
    "ax.set_title('Aggregate amounts of flow per quartile flow level',fontsize=16)\n",
    "\n",
    "ax.grid(axis='y', linestyle='--')\n",
    "ax.set_axisbelow(True)\n",
    "\n",
    "ax.xaxis.label.set_fontsize(16)\n",
    "ax.yaxis.label.set_fontsize(16)\n",
    "\n",
    "ax.axes.tick_params(labelsize=13.5, labelrotation=90)\n",
    "\n",
    "ax.legend(fontsize=13)"
   ]
  },
  {
   "cell_type": "markdown",
   "metadata": {},
   "source": [
    "**The color scheme, labeling, and titles can definitely be improved above :)**\n",
    "**AUSTIN please improve below**  \n",
    "The plot above can already answer many questions about usage at a particular pump location for a single day:\n",
    "- We can see high usage in the late afternoon and early mornings"
   ]
  },
  {
   "cell_type": "markdown",
   "metadata": {},
   "source": [
    "## Single device, multiple reports\n",
    "\n",
    "**AUSTIN** \n",
    "In order to to plot multiple flow level reports per device, I think we need to take data from stream 8 and/or 9 in order to normalize data from streams 11-14 to get numerical amounts of flows. Then we can make line graphs of a flow amount per unit time, instead of stacked barplots above.\n",
    "\n",
    "Since I'm not sure exactly how to relate streams 8,9 and 11-14, I choose to assign a number 1-4 to each quartile and multiply each of those numbers by the aggregated flow times from each data stream. So if there is a data point for quartile 4 for showing 80 ticks of flow, I map that to 80x4=320. The barplot above then looks like:"
   ]
  },
  {
   "cell_type": "code",
   "execution_count": 148,
   "metadata": {},
   "outputs": [
    {
     "data": {
      "text/html": [
       "<div>\n",
       "<style scoped>\n",
       "    .dataframe tbody tr th:only-of-type {\n",
       "        vertical-align: middle;\n",
       "    }\n",
       "\n",
       "    .dataframe tbody tr th {\n",
       "        vertical-align: top;\n",
       "    }\n",
       "\n",
       "    .dataframe thead th {\n",
       "        text-align: right;\n",
       "    }\n",
       "</style>\n",
       "<table border=\"1\" class=\"dataframe\">\n",
       "  <thead>\n",
       "    <tr style=\"text-align: right;\">\n",
       "      <th></th>\n",
       "      <th>q1</th>\n",
       "      <th>q2</th>\n",
       "      <th>q3</th>\n",
       "      <th>q4</th>\n",
       "    </tr>\n",
       "    <tr>\n",
       "      <th>datetime</th>\n",
       "      <th></th>\n",
       "      <th></th>\n",
       "      <th></th>\n",
       "      <th></th>\n",
       "    </tr>\n",
       "  </thead>\n",
       "  <tbody>\n",
       "    <tr>\n",
       "      <th>2016-08-15 13:35:45.662</th>\n",
       "      <td>0</td>\n",
       "      <td>0</td>\n",
       "      <td>0</td>\n",
       "      <td>0</td>\n",
       "    </tr>\n",
       "    <tr>\n",
       "      <th>2016-08-15 14:36:36.945</th>\n",
       "      <td>0</td>\n",
       "      <td>18</td>\n",
       "      <td>136</td>\n",
       "      <td>165</td>\n",
       "    </tr>\n",
       "    <tr>\n",
       "      <th>2016-08-15 15:37:28.227</th>\n",
       "      <td>8</td>\n",
       "      <td>109</td>\n",
       "      <td>159</td>\n",
       "      <td>47</td>\n",
       "    </tr>\n",
       "  </tbody>\n",
       "</table>\n",
       "</div>"
      ],
      "text/plain": [
       "                         q1   q2   q3   q4\n",
       "datetime                                  \n",
       "2016-08-15 13:35:45.662   0    0    0    0\n",
       "2016-08-15 14:36:36.945   0   18  136  165\n",
       "2016-08-15 15:37:28.227   8  109  159   47"
      ]
     },
     "execution_count": 148,
     "metadata": {},
     "output_type": "execute_result"
    }
   ],
   "source": [
    "plot_df.head(3)"
   ]
  },
  {
   "cell_type": "code",
   "execution_count": 132,
   "metadata": {},
   "outputs": [
    {
     "data": {
      "text/plain": [
       "datetime\n",
       "2016-08-15 13:35:45.662       0\n",
       "2016-08-15 14:36:36.945    1104\n",
       "2016-08-15 15:37:28.227     891\n",
       "2016-08-15 16:38:19.509     738\n",
       "2016-08-15 17:39:10.791     804\n",
       "dtype: int64"
      ]
     },
     "execution_count": 132,
     "metadata": {},
     "output_type": "execute_result"
    }
   ],
   "source": [
    "#convert data from each row (4 col entries) to a single number representing total flow\n",
    "#so q1*1 + q2*2 +...\n",
    "plot_df.apply(lambda x: sum([(i+1)*x.iloc[i] for i in range(plot_df.columns.size)]), axis=1).head()"
   ]
  },
  {
   "cell_type": "code",
   "execution_count": 168,
   "metadata": {},
   "outputs": [
    {
     "data": {
      "text/plain": [
       "Timestamp('2016-08-15 13:35:45.662000')"
      ]
     },
     "execution_count": 168,
     "metadata": {},
     "output_type": "execute_result"
    }
   ],
   "source": [
    "x[0]"
   ]
  },
  {
   "cell_type": "code",
   "execution_count": 174,
   "metadata": {},
   "outputs": [
    {
     "data": {
      "image/png": "[encoded data removed]",
      "text/plain": [
       "<Figure size 648x288 with 1 Axes>"
      ]
     },
     "metadata": {},
     "output_type": "display_data"
    }
   ],
   "source": [
    "import matplotlib.dates as mdates\n",
    "\n",
    "#use pandas for easy plotting, get axes\n",
    "tot_flow_df = plot_df.apply(lambda x: sum([(i+1)*x.iloc[i] for i in range(plot_df.columns.size)]), axis=1)\n",
    "\n",
    "#change to matplotlib for plotting for more control\n",
    "fig, ax = plt.subplots(figsize=(9,4))\n",
    "\n",
    "x = tot_flow_df.index\n",
    "y = tot_flow_df.values\n",
    "\n",
    "ax.plot(x,y,'.-',ms=9) \n",
    "\n",
    "ax.set_ylim(bottom=.1)\n",
    "\n",
    "#labels and fonts\n",
    "# ax.set_xlabel('Material')\n",
    "ax.set_ylabel('Total Flow')\n",
    "ax.set_title('Total Flow, single device, single report',fontsize=16)\n",
    "\n",
    "ax.grid(axis='y', linestyle='--')\n",
    "ax.set_axisbelow(True)\n",
    "\n",
    "ax.xaxis.label.set_fontsize(16)\n",
    "ax.yaxis.label.set_fontsize(16)\n",
    "\n",
    "ax.xaxis.set_tick_params(labelsize=13.5)\n",
    "\n",
    "myFmt = mdates.DateFormatter('%m-%d,%H:%M:%S')\n",
    "ax.xaxis.set_major_formatter(myFmt)\n",
    "\n",
    "fig.autofmt_xdate()\n",
    "\n",
    "# ax.legend(fontsize=13)"
   ]
  },
  {
   "cell_type": "markdown",
   "metadata": {},
   "source": [
    "- This is the same data as the stacked barplot above\n",
    "- Not sure what's going on with the rounding of the datetimes above on the xaxis, but you get the point"
   ]
  },
  {
   "cell_type": "markdown",
   "metadata": {},
   "source": [
    "## Many reports, single device\n",
    "\n",
    "**AUSTIN**:  \n",
    "\n",
    "We can calculate useful stats related to:\n",
    "- typical usage over the course of a day\n",
    "- anomalous days for this device\n",
    "\n",
    "We can make high level statements and answer big questions like:  \n",
    "- this device..."
   ]
  },
  {
   "cell_type": "markdown",
   "metadata": {},
   "source": [
    "Combining the code from above (prob not well:), starting with data for all devices with columns present:"
   ]
  },
  {
   "cell_type": "code",
   "execution_count": 180,
   "metadata": {},
   "outputs": [],
   "source": [
    "data_all_columns = data_df.dropna()"
   ]
  },
  {
   "cell_type": "code",
   "execution_count": 184,
   "metadata": {},
   "outputs": [
    {
     "data": {
      "text/html": [
       "<div>\n",
       "<style scoped>\n",
       "    .dataframe tbody tr th:only-of-type {\n",
       "        vertical-align: middle;\n",
       "    }\n",
       "\n",
       "    .dataframe tbody tr th {\n",
       "        vertical-align: top;\n",
       "    }\n",
       "\n",
       "    .dataframe thead th {\n",
       "        text-align: right;\n",
       "    }\n",
       "</style>\n",
       "<table border=\"1\" class=\"dataframe\">\n",
       "  <thead>\n",
       "    <tr style=\"text-align: right;\">\n",
       "      <th></th>\n",
       "      <th>id</th>\n",
       "      <th>reading_8</th>\n",
       "      <th>baseline_9</th>\n",
       "      <th>q1</th>\n",
       "      <th>q2</th>\n",
       "      <th>q3</th>\n",
       "      <th>q4</th>\n",
       "    </tr>\n",
       "  </thead>\n",
       "  <tbody>\n",
       "    <tr>\n",
       "      <th>109</th>\n",
       "      <td>56a07f053a18eb2e00bf8f8d</td>\n",
       "      <td>[[1453866143101, 3]]</td>\n",
       "      <td>[[1453866133100, 4450], [1453869733468, 4456]]</td>\n",
       "      <td>[[1453869723467, 358]]</td>\n",
       "      <td>[[1453869723467, 1]]</td>\n",
       "      <td>[[1453869723467, 0]]</td>\n",
       "      <td>[[1453869723467, 0]]</td>\n",
       "    </tr>\n",
       "    <tr>\n",
       "      <th>110</th>\n",
       "      <td>56a07f133a18eb2e00bf8f8f</td>\n",
       "      <td>[[1453866363038, 3]]</td>\n",
       "      <td>[[1453866353038, 4579], [1453869953091, 4695]]</td>\n",
       "      <td>[[1453869943090, 0]]</td>\n",
       "      <td>[[1453869943090, 0]]</td>\n",
       "      <td>[[1453869943090, 0]]</td>\n",
       "      <td>[[1453869943090, 0]]</td>\n",
       "    </tr>\n",
       "  </tbody>\n",
       "</table>\n",
       "</div>"
      ],
      "text/plain": [
       "                           id             reading_8  \\\n",
       "109  56a07f053a18eb2e00bf8f8d  [[1453866143101, 3]]   \n",
       "110  56a07f133a18eb2e00bf8f8f  [[1453866363038, 3]]   \n",
       "\n",
       "                                         baseline_9                      q1  \\\n",
       "109  [[1453866133100, 4450], [1453869733468, 4456]]  [[1453869723467, 358]]   \n",
       "110  [[1453866353038, 4579], [1453869953091, 4695]]    [[1453869943090, 0]]   \n",
       "\n",
       "                       q2                    q3                    q4  \n",
       "109  [[1453869723467, 1]]  [[1453869723467, 0]]  [[1453869723467, 0]]  \n",
       "110  [[1453869943090, 0]]  [[1453869943090, 0]]  [[1453869943090, 0]]  "
      ]
     },
     "execution_count": 184,
     "metadata": {},
     "output_type": "execute_result"
    }
   ],
   "source": [
    "data_all_columns.head(2)"
   ]
  },
  {
   "cell_type": "markdown",
   "metadata": {},
   "source": [
    "Methods to extract arrays from columns above"
   ]
  },
  {
   "cell_type": "code",
   "execution_count": 185,
   "metadata": {},
   "outputs": [],
   "source": [
    "#method to extract timestamp array from column 'q1'\n",
    "def get_ts_array(row):\n",
    "    return [pd.to_datetime(i[0],unit='ms') for i in row['q1']]\n",
    "#can add extraction methods for 'reading_8' and 'baseline_9'"
   ]
  },
  {
   "cell_type": "code",
   "execution_count": 196,
   "metadata": {},
   "outputs": [],
   "source": [
    "def get_quartile_array(row,col):\n",
    "    return [i[1] for i in row[col]]"
   ]
  },
  {
   "cell_type": "code",
   "execution_count": 249,
   "metadata": {},
   "outputs": [],
   "source": [
    "def get_total_flow(row):\n",
    "    #for each column in row, get array -> convert to numpy array -> mult by numerical quartile equivalent \n",
    "    #->sum all 4 arrays element wise for total flow per timestamp\n",
    "    return np.array(row['q1']) + 2*np.array(row['q2']) + 3*np.array(row['q3']) + 4*np.array(row['q4']) "
   ]
  },
  {
   "cell_type": "markdown",
   "metadata": {},
   "source": [
    "Make new dataframe"
   ]
  },
  {
   "cell_type": "code",
   "execution_count": 250,
   "metadata": {},
   "outputs": [],
   "source": [
    "#define new dataframe to hold extracted timeseries for each device ID\n",
    "data_streams_df = pd.DataFrame()\n",
    "#get id column\n",
    "data_streams_df['id'] = data_all_columns['id']\n",
    "#get timestamp array\n",
    "data_streams_df['ts'] = data_all_columns.apply(get_ts_array, axis=1)\n",
    "#get quartile arrays\n",
    "for col in ['q1','q2','q3','q4']:\n",
    "    data_streams_df[col] = data_all_columns.apply(lambda x: get_quartile_array(x,col), axis=1)\n",
    "#calculate total flow number, TODO: use stream 8 and 9 to do this correctly\n",
    "data_streams_df['total'] = data_streams_df.apply(get_total_flow, axis=1)"
   ]
  },
  {
   "cell_type": "markdown",
   "metadata": {},
   "source": [
    "Check that the 'total' column is correct for a single device"
   ]
  },
  {
   "cell_type": "code",
   "execution_count": 291,
   "metadata": {},
   "outputs": [
    {
     "data": {
      "text/plain": [
       "id                                56a084cd3a18eb2e00bf8fb9\n",
       "ts       [2016-01-27 14:27:55.360000, 2016-01-27 15:27:...\n",
       "q1       [0, 0, 0, 0, 0, 0, 0, 76, 89, 90, 90, 87, 22, ...\n",
       "q2       [0, 0, 0, 0, 1, 90, 90, 14, 1, 0, 0, 0, 1, 0, ...\n",
       "q3       [0, 0, 0, 0, 1, 0, 0, 0, 0, 0, 0, 0, 0, 0, 0, ...\n",
       "q4       [0, 0, 0, 0, 0, 0, 0, 0, 0, 0, 0, 0, 0, 0, 0, ...\n",
       "total    [0, 0, 0, 0, 5, 180, 180, 104, 91, 90, 90, 87,...\n",
       "Name: 152, dtype: object"
      ]
     },
     "execution_count": 291,
     "metadata": {},
     "output_type": "execute_result"
    }
   ],
   "source": [
    "#check sum works out\n",
    "data_streams_df[data_streams_df['id']=='56a084cd3a18eb2e00bf8fb9'].iloc[0]"
   ]
  },
  {
   "cell_type": "code",
   "execution_count": 252,
   "metadata": {},
   "outputs": [
    {
     "data": {
      "text/plain": [
       "46"
      ]
     },
     "execution_count": 252,
     "metadata": {},
     "output_type": "execute_result"
    }
   ],
   "source": [
    "#confirm 46 devices\n",
    "data_streams_df.id.unique().size"
   ]
  },
  {
   "cell_type": "code",
   "execution_count": 253,
   "metadata": {},
   "outputs": [
    {
     "data": {
      "text/plain": [
       "56a084cd3a18eb2e00bf8fb9    5\n",
       "56a080443a18eb2e00bf8fa3    4\n",
       "56a0803e3a18eb2e00bf8fa1    4\n",
       "56a086e13a18eb2e00bf8fe8    4\n",
       "56a0866d3a18eb2e00bf8fdf    3\n",
       "Name: id, dtype: int64"
      ]
     },
     "execution_count": 253,
     "metadata": {},
     "output_type": "execute_result"
    }
   ],
   "source": [
    "data_streams_df.id.value_counts().head()"
   ]
  },
  {
   "cell_type": "markdown",
   "metadata": {},
   "source": [
    "**Plot total flows for all reports for a single device**\n",
    "\n",
    "Remove dates and just plot vs time to compare across days."
   ]
  },
  {
   "cell_type": "code",
   "execution_count": 354,
   "metadata": {},
   "outputs": [
    {
     "data": {
      "image/png": "[encoded data removed]",
      "text/plain": [
       "<Figure size 648x288 with 1 Axes>"
      ]
     },
     "metadata": {},
     "output_type": "display_data"
    }
   ],
   "source": [
    "#get single device data\n",
    "single_device = data_streams_df[data_streams_df['id']=='56a084cd3a18eb2e00bf8fb9']\n",
    "\n",
    "#define figure and axes\n",
    "fig, ax = plt.subplots(figsize=(9,4))\n",
    "\n",
    "#iterate over all reports for one device\n",
    "for i in range(single_device.id.count()):\n",
    "\n",
    "    report = single_device.iloc[i]\n",
    "\n",
    "    #get time from timestamps since we want to compare across different dates\n",
    "    times = pd.Series(report['ts']).map(lambda x: x.time())\n",
    "#     print(times)\n",
    "\n",
    "    #put times, total data into new dataframe\n",
    "    plt_df = pd.DataFrame({'total':report['total']}, index=times)\n",
    "\n",
    "    #plot using pandas dataframe plot method, this seems to not cause any date errors\n",
    "    plt_df.plot(ax=ax) \n",
    "\n",
    "ax.set_ylim(bottom=.1)\n",
    "\n",
    "#labels and fonts\n",
    "# ax.set_xlabel('Material')\n",
    "ax.set_ylabel('Total Flow')\n",
    "ax.set_title('Total Flow, single device, all reports',fontsize=16)\n",
    "\n",
    "ax.grid(axis='y', linestyle='--')\n",
    "ax.set_axisbelow(True)\n",
    "\n",
    "ax.xaxis.label.set_fontsize(16)\n",
    "ax.yaxis.label.set_fontsize(16)\n",
    "\n",
    "ax.xaxis.set_tick_params(labelsize=13.5)\n",
    "\n",
    "#don't use this code for date formatting when pandas is used for plotting\n",
    "#this would be used when matplotlib controls the axes\n",
    "# myFmt = mdates.DateFormatter('%H:%M:%S')\n",
    "# ax.xaxis.set_major_formatter(myFmt)\n",
    "# fig.autofmt_xdate()\n",
    "\n",
    "# ax.legend(fontsize=13)"
   ]
  },
  {
   "cell_type": "code",
   "execution_count": null,
   "metadata": {},
   "outputs": [],
   "source": []
  },
  {
   "cell_type": "markdown",
   "metadata": {},
   "source": [
    "## Many devices, many reports\n",
    "\n",
    "**AUSTIN**:  \n",
    "\n",
    "We can calculate useful stats related to:\n",
    "- typical usage over days, weeks in a region where devices are concentrated\n",
    "- differences in usage by location corresponding to each device\n",
    "\n",
    "We can make high level statements and answer big questions like:  \n",
    "- e.g. these devices show high usage in the mornings, these in the evenings. That's because people in that area etc..."
   ]
  },
  {
   "cell_type": "code",
   "execution_count": null,
   "metadata": {},
   "outputs": [],
   "source": []
  },
  {
   "cell_type": "markdown",
   "metadata": {},
   "source": [
    "**Battery Voltage**\n",
    "\n",
    "Battery voltage is reported in Volts.  The nominal voltage of a fully-charged lithium ion battery is around 3.8V.  The voltage should be around 3.8 unless the battery is almost 100% or almost 0% charged, at which points the voltage quickly increases (around 100% charge) or decreases (around 0% charge).  See the below voltage graph for Li-On batteries.  Basically, if the voltage reading is at or above 3.7ish volts then the battery has a good amount of capacity left.  If it is less than 3.7V it means the battery will fail imminently.  The later-model MoMo units did not have an external solar charger, so you should be able to see voltage degradation over time.  Models with an external charge source would stay nearly fully-charged around 4V unless something malfunctioned (for instance, the solar panel might have been stolen or obstructed)."
   ]
  },
  {
   "cell_type": "markdown",
   "metadata": {},
   "source": [
    "**Number of Sensor Readings per Quantile**  \n",
    "**Timestamps**  \n",
    "**Battery Voltage**"
   ]
  },
  {
   "cell_type": "code",
   "execution_count": 22,
   "metadata": {},
   "outputs": [
    {
     "data": {
      "text/plain": [
       "{'version': 4,\n",
       " 'batteryVoltage': 4.126562499999999,\n",
       " 'uuid': 4272546864,\n",
       " 'timestamp': '2000-01-02T07:22:14.000Z',\n",
       " 'entries': [{'timestamp': '2000-01-02T07:21:32.000Z',\n",
       "   'value': 3,\n",
       "   'streamID': 8}]}"
      ]
     },
     "execution_count": 22,
     "metadata": {},
     "output_type": "execute_result"
    }
   ],
   "source": [
    "r_raw.report[0]"
   ]
  },
  {
   "cell_type": "code",
   "execution_count": 27,
   "metadata": {},
   "outputs": [
    {
     "data": {
      "text/plain": [
       "{'8': [[1453778596300, 3]], 'battery': [[1453778632300, 4.028828124999999]]}"
      ]
     },
     "execution_count": 27,
     "metadata": {},
     "output_type": "execute_result"
    }
   ],
   "source": [
    "r_raw.data.dropna()[68]"
   ]
  },
  {
   "cell_type": "markdown",
   "metadata": {},
   "source": [
    "## Monitor Data"
   ]
  },
  {
   "cell_type": "code",
   "execution_count": 18,
   "metadata": {},
   "outputs": [
    {
     "data": {
      "text/html": [
       "<div>\n",
       "<style scoped>\n",
       "    .dataframe tbody tr th:only-of-type {\n",
       "        vertical-align: middle;\n",
       "    }\n",
       "\n",
       "    .dataframe tbody tr th {\n",
       "        vertical-align: top;\n",
       "    }\n",
       "\n",
       "    .dataframe thead th {\n",
       "        text-align: right;\n",
       "    }\n",
       "</style>\n",
       "<table border=\"1\" class=\"dataframe\">\n",
       "  <thead>\n",
       "    <tr style=\"text-align: right;\">\n",
       "      <th></th>\n",
       "      <th>_id</th>\n",
       "      <th>last_report_time</th>\n",
       "      <th>last_report_timestamp</th>\n",
       "      <th>location</th>\n",
       "      <th>name</th>\n",
       "      <th>status</th>\n",
       "      <th>uuid</th>\n",
       "    </tr>\n",
       "  </thead>\n",
       "  <tbody>\n",
       "    <tr>\n",
       "      <th>0</th>\n",
       "      <td>56a07e8f3a18eb2e00bf8f89</td>\n",
       "      <td>2016-08-25 17:07:55.079</td>\n",
       "      <td>777633.0</td>\n",
       "      <td>[0, 0]</td>\n",
       "      <td>MSABI #01 (LIVE)</td>\n",
       "      <td>unknown</td>\n",
       "      <td>4272546864</td>\n",
       "    </tr>\n",
       "    <tr>\n",
       "      <th>1</th>\n",
       "      <td>56a07eda3a18eb2e00bf8f8b</td>\n",
       "      <td>NaT</td>\n",
       "      <td>NaN</td>\n",
       "      <td>[0, 0]</td>\n",
       "      <td>MSABI #04 (DEAD)</td>\n",
       "      <td>unknown</td>\n",
       "      <td>3447800797</td>\n",
       "    </tr>\n",
       "    <tr>\n",
       "      <th>2</th>\n",
       "      <td>56a07f053a18eb2e00bf8f8d</td>\n",
       "      <td>2016-01-28 03:42:40.168</td>\n",
       "      <td>607901.0</td>\n",
       "      <td>[0, 0]</td>\n",
       "      <td>MSABI #07 (LIVE)</td>\n",
       "      <td>unknown</td>\n",
       "      <td>249966444</td>\n",
       "    </tr>\n",
       "    <tr>\n",
       "      <th>3</th>\n",
       "      <td>56a07f133a18eb2e00bf8f8f</td>\n",
       "      <td>2016-08-20 12:05:21.175</td>\n",
       "      <td>432022.0</td>\n",
       "      <td>[0, 0]</td>\n",
       "      <td>MSABI #08 (LIVE)</td>\n",
       "      <td>unknown</td>\n",
       "      <td>3266165150</td>\n",
       "    </tr>\n",
       "    <tr>\n",
       "      <th>4</th>\n",
       "      <td>56a07f2b3a18eb2e00bf8f91</td>\n",
       "      <td>2016-02-10 12:28:11.590</td>\n",
       "      <td>1128401.0</td>\n",
       "      <td>[0, 0]</td>\n",
       "      <td>MSABI #09</td>\n",
       "      <td>unknown</td>\n",
       "      <td>1763173377</td>\n",
       "    </tr>\n",
       "  </tbody>\n",
       "</table>\n",
       "</div>"
      ],
      "text/plain": [
       "                        _id        last_report_time  last_report_timestamp  \\\n",
       "0  56a07e8f3a18eb2e00bf8f89 2016-08-25 17:07:55.079               777633.0   \n",
       "1  56a07eda3a18eb2e00bf8f8b                     NaT                    NaN   \n",
       "2  56a07f053a18eb2e00bf8f8d 2016-01-28 03:42:40.168               607901.0   \n",
       "3  56a07f133a18eb2e00bf8f8f 2016-08-20 12:05:21.175               432022.0   \n",
       "4  56a07f2b3a18eb2e00bf8f91 2016-02-10 12:28:11.590              1128401.0   \n",
       "\n",
       "  location              name   status        uuid  \n",
       "0   [0, 0]  MSABI #01 (LIVE)  unknown  4272546864  \n",
       "1   [0, 0]  MSABI #04 (DEAD)  unknown  3447800797  \n",
       "2   [0, 0]  MSABI #07 (LIVE)  unknown   249966444  \n",
       "3   [0, 0]  MSABI #08 (LIVE)  unknown  3266165150  \n",
       "4   [0, 0]         MSABI #09  unknown  1763173377  "
      ]
     },
     "execution_count": 18,
     "metadata": {},
     "output_type": "execute_result"
    }
   ],
   "source": [
    "m_raw.head()"
   ]
  },
  {
   "cell_type": "code",
   "execution_count": 17,
   "metadata": {},
   "outputs": [
    {
     "data": {
      "text/plain": [
       "_id                      50\n",
       "last_report_time         48\n",
       "last_report_timestamp    48\n",
       "location                 50\n",
       "name                     50\n",
       "status                   50\n",
       "uuid                     50\n",
       "dtype: int64"
      ]
     },
     "execution_count": 17,
     "metadata": {},
     "output_type": "execute_result"
    }
   ],
   "source": [
    "m_raw.count()"
   ]
  },
  {
   "cell_type": "code",
   "execution_count": null,
   "metadata": {},
   "outputs": [],
   "source": []
  }
 ],
 "metadata": {
  "kernelspec": {
   "display_name": "Python 3",
   "language": "python",
   "name": "python3"
  },
  "language_info": {
   "codemirror_mode": {
    "name": "ipython",
    "version": 3
   },
   "file_extension": ".py",
   "mimetype": "text/x-python",
   "name": "python",
   "nbconvert_exporter": "python",
   "pygments_lexer": "ipython3",
   "version": "3.6.5"
  }
 },
 "nbformat": 4,
 "nbformat_minor": 2
}
